{
 "cells": [
  {
   "cell_type": "code",
   "execution_count": 1,
   "id": "a9a47945",
   "metadata": {},
   "outputs": [],
   "source": [
    "import spacy\n",
    "from spacy.training.example import Example"
   ]
  },
  {
   "cell_type": "code",
   "execution_count": 2,
   "id": "14f5ba99",
   "metadata": {},
   "outputs": [],
   "source": [
    "nlp = spacy.load('en_core_web_lg')"
   ]
  },
  {
   "cell_type": "code",
   "execution_count": 3,
   "id": "56a22039",
   "metadata": {},
   "outputs": [],
   "source": [
    "import pandas as pd\n",
    "\n",
    "df = pd.read_csv('Data.csv')"
   ]
  },
  {
   "cell_type": "code",
   "execution_count": null,
   "id": "a8ce172a",
   "metadata": {},
   "outputs": [],
   "source": [
    "print(df.info())"
   ]
  },
  {
   "cell_type": "code",
   "execution_count": null,
   "id": "5a8ac86a",
   "metadata": {},
   "outputs": [],
   "source": [
    "print(df.describe())"
   ]
  },
  {
   "cell_type": "code",
   "execution_count": null,
   "id": "e12d8de5",
   "metadata": {},
   "outputs": [],
   "source": [
    "print(df.head())"
   ]
  },
  {
   "cell_type": "code",
   "execution_count": null,
   "id": "0b200537",
   "metadata": {},
   "outputs": [],
   "source": [
    "print(df['Description'].value_counts())"
   ]
  },
  {
   "cell_type": "code",
   "execution_count": null,
   "id": "c225700b",
   "metadata": {},
   "outputs": [],
   "source": [
    "# Access a specific column value from the first row\n",
    "first_description = df.loc[0, 'Description']\n",
    "\n",
    "# Display the value\n",
    "print(first_description)"
   ]
  },
  {
   "cell_type": "code",
   "execution_count": 4,
   "id": "c111df35",
   "metadata": {},
   "outputs": [],
   "source": [
    "import re\n",
    "\n",
    "def preprocess_text(text):\n",
    "    # Remove extra whitespaces\n",
    "    text = ' '.join(text.split())\n",
    "\n",
    "    # Remove unwanted characters\n",
    "    text = re.sub(r\"[^a-zA-Z0-9.,!?']\", ' ', text)\n",
    "\n",
    "    # Ensure proper spacing after punctuation\n",
    "    text = re.sub(r'(?<=[.,!?])(?=[^\\s])', ' ', text)\n",
    "\n",
    "    return text\n",
    "\n",
    "\n",
    "def preprocess(text):\n",
    "    doc = nlp(text)\n",
    "    return ' '.join([token.text.lower() for token in doc if not token.is_punct])\n",
    "\n",
    "\n",
    "df['processed_text'] = df['Description'].apply(preprocess_text)\n",
    "df['clean_text'] = df['processed_text'].apply(preprocess)"
   ]
  },
  {
   "cell_type": "code",
   "execution_count": 5,
   "id": "dc64712b",
   "metadata": {},
   "outputs": [
    {
     "name": "stdout",
     "output_type": "stream",
     "text": [
      "0     Company DescriptionAt Lakeshore, we create inn...\n",
      "1     DescriptionPosition Title  Store ManagerDepart...\n",
      "2     Company OverviewKREWE is an independent high f...\n",
      "3     Company DescriptionVuori is re defining what a...\n",
      "4     ABOUT US Founded in 1945, Pierre Balmain's epo...\n",
      "                            ...                        \n",
      "88    Surgical  Orthopedic 5 South   Certified Nurse...\n",
      "89    GUARDIAN ANGEL SENIOR SERVICES We no longer re...\n",
      "90    Dietary Aide is responsible for running the tr...\n",
      "91    Get paid daily with DailyPay! RequirementsCNA ...\n",
      "92    Livingston Hills Nursing and rehab is actively...\n",
      "Name: processed_text, Length: 93, dtype: object\n"
     ]
    }
   ],
   "source": [
    "print(df['processed_text'])"
   ]
  },
  {
   "cell_type": "code",
   "execution_count": 6,
   "id": "a805dead",
   "metadata": {},
   "outputs": [
    {
     "data": {
      "text/plain": [
       "1"
      ]
     },
     "execution_count": 6,
     "metadata": {},
     "output_type": "execute_result"
    }
   ],
   "source": [
    "ner = nlp.get_pipe(\"ner\")\n",
    "ner.add_label(\"JOB_REQUIREMENT\")"
   ]
  },
  {
   "cell_type": "code",
   "execution_count": 7,
   "id": "29ba0028",
   "metadata": {},
   "outputs": [],
   "source": [
    "train_data = [\n",
    "    (\"we are seeking a skilled software engineer with a strong background in python development\", {\"entities\": [(25, 42, \"JOB_REQUIREMENT\")]}),\n",
    "    (\"the candidate should have experience working with machine learning frameworks like tensorflow and pytorch\", {\"entities\": [(50, 66, \"JOB_REQUIREMENT\"), (83, 105, \"JOB_REQUIREMENT\")]}),\n",
    "    (\"excellent problem-solving skills and the ability to work in a fast-paced environment are required\", {\"entities\": [(0, 32, \"JOB_REQUIREMENT\"), (41, 84, \"JOB_REQUIREMENT\")]}),\n",
    "    (\"familiarity with cloud computing platforms such as aws or azure is a plus\", {\"entities\": [(17, 32, \"JOB_REQUIREMENT\"), (51, 63, \"JOB_REQUIREMENT\")]}),\n",
    "    (\"the ideal candidate will possess a bachelor's degree in computer science or a related field\", {\"entities\": [(35, 72, \"JOB_REQUIREMENT\")]}),\n",
    "    (\"strong communication and interpersonal skills are essential for this role\", {\"entities\": [(0, 20, \"JOB_REQUIREMENT\"), (25, 45, \"JOB_REQUIREMENT\")]}),\n",
    "    (\"experience in project management and the ability to lead a team are key requirements\", {\"entities\": [(14, 32, \"JOB_REQUIREMENT\"), (41, 63, \"JOB_REQUIREMENT\")]}),\n",
    "    (\"the candidate must be proficient in sql and have a deep understanding of database management\", {\"entities\": [(36, 39, \"JOB_REQUIREMENT\"), (73, 92, \"JOB_REQUIREMENT\")]}),\n",
    "    (\"candidates with certifications such as pmp or scrum master are highly desirable\", {\"entities\": [(39, 42, \"JOB_REQUIREMENT\"), (46, 58, \"JOB_REQUIREMENT\")]}),\n",
    "    (\"proven experience in designing and implementing scalable and reliable systems is a must\", {\"entities\": [(21, 77, \"JOB_REQUIREMENT\")]}),\n",
    "    (\"the successful candidate will be responsible for collaborating with cross-functional teams\", {\"entities\": [(49, 90, \"JOB_REQUIREMENT\")]}),\n",
    "]"
   ]
  },
  {
   "cell_type": "code",
   "execution_count": null,
   "id": "24cb4cdb",
   "metadata": {},
   "outputs": [],
   "source": [
    "spacy.training.offsets_to_biluo_tags(nlp.make_doc(\"the ideal candidate will possess a bachelor's degree in computer science or a related field\"), [(35, 72, \"JOB_REQUIREMENT\")])"
   ]
  },
  {
   "cell_type": "code",
   "execution_count": 8,
   "id": "970a9942",
   "metadata": {},
   "outputs": [],
   "source": [
    "for _, annotations in train_data:\n",
    "    for ent in annotations.get(\"entities\", []):\n",
    "        ner.add_label(ent[2])"
   ]
  },
  {
   "cell_type": "code",
   "execution_count": 26,
   "id": "bd242bb6",
   "metadata": {},
   "outputs": [],
   "source": [
    "n_iter = 90\n",
    "for _ in range(n_iter):\n",
    "    for text, annotations in train_data:\n",
    "        example = Example.from_dict(nlp.make_doc(text), annotations)\n",
    "        nlp.update([example], drop=0.5)"
   ]
  },
  {
   "cell_type": "code",
   "execution_count": 27,
   "id": "c2ff12e1",
   "metadata": {},
   "outputs": [],
   "source": [
    "nlp.to_disk(\"job_requirement_ner_model\")"
   ]
  },
  {
   "cell_type": "code",
   "execution_count": 28,
   "id": "b44651b4",
   "metadata": {},
   "outputs": [],
   "source": [
    "loaded_nlp = spacy.load(\"job_requirement_ner_model\")"
   ]
  },
  {
   "cell_type": "code",
   "execution_count": 29,
   "id": "ca0862af",
   "metadata": {},
   "outputs": [],
   "source": [
    "def extract_job_requirements(text):\n",
    "    doc = loaded_nlp(text)\n",
    "    return [(ent.text, ent.label_) for ent in doc.ents if ent.label_ == \"JOB_REQUIREMENT\"]"
   ]
  },
  {
   "cell_type": "code",
   "execution_count": 30,
   "id": "9848d870",
   "metadata": {},
   "outputs": [],
   "source": [
    "df['job_requirements'] = df['clean_text'].apply(extract_job_requirements)"
   ]
  },
  {
   "cell_type": "code",
   "execution_count": 31,
   "id": "b4be5bd7",
   "metadata": {},
   "outputs": [
    {
     "name": "stdout",
     "output_type": "stream",
     "text": [
      "                                          Description  \\\n",
      "0   Company DescriptionAt Lakeshore, we create inn...   \n",
      "1   DescriptionPosition Title: Store ManagerDepart...   \n",
      "2   Company OverviewKREWE is an independent high-f...   \n",
      "3   Company DescriptionVuori is re-defining what a...   \n",
      "4   ABOUT US:Founded in 1945, Pierre Balmain's epo...   \n",
      "..                                                ...   \n",
      "88  Surgical /Orthopedic 5 South / Certified Nurse...   \n",
      "89  GUARDIAN ANGEL SENIOR SERVICES We no longer re...   \n",
      "90  Dietary Aide is responsible for running the tr...   \n",
      "91  Get paid daily with DailyPay!RequirementsCNA c...   \n",
      "92  Livingston Hills Nursing and rehab is actively...   \n",
      "\n",
      "                                     job_requirements  \n",
      "0   [(company descriptionat, JOB_REQUIREMENT), (in...  \n",
      "1   [(descriptionposition title, JOB_REQUIREMENT),...  \n",
      "2   [(company overviewkrewe, JOB_REQUIREMENT), (ey...  \n",
      "3   [(company descriptionvuori, JOB_REQUIREMENT), ...  \n",
      "4   [(us founded, JOB_REQUIREMENT), (balmain 's ep...  \n",
      "..                                                ...  \n",
      "88  [(orthopedic 5, JOB_REQUIREMENT), (assistant  ...  \n",
      "89  [(angel senior, JOB_REQUIREMENT), (19 vaccinat...  \n",
      "90  [(etc 1, JOB_REQUIREMENT), (2 handles food and...  \n",
      "91  [(dailypay requirementscna, JOB_REQUIREMENT), ...  \n",
      "92  [(hudson ny, JOB_REQUIREMENT), (aide hired, JO...  \n",
      "\n",
      "[93 rows x 2 columns]\n"
     ]
    }
   ],
   "source": [
    "print(df[['Description', 'job_requirements']])"
   ]
  },
  {
   "cell_type": "code",
   "execution_count": 33,
   "id": "c5dfb7d2",
   "metadata": {},
   "outputs": [
    {
     "name": "stdout",
     "output_type": "stream",
     "text": [
      "0     [(company descriptionat, JOB_REQUIREMENT), (in...\n",
      "1     [(descriptionposition title, JOB_REQUIREMENT),...\n",
      "2     [(company overviewkrewe, JOB_REQUIREMENT), (ey...\n",
      "3     [(company descriptionvuori, JOB_REQUIREMENT), ...\n",
      "4     [(us founded, JOB_REQUIREMENT), (balmain 's ep...\n",
      "5     [(80 years dollar general helps, JOB_REQUIREME...\n",
      "6     [(job descriptionare, JOB_REQUIREMENT), (kansa...\n",
      "7     [(job detailsdescriptionabout, JOB_REQUIREMENT...\n",
      "8     [(job detailsdescriptionabout, JOB_REQUIREMENT...\n",
      "9     [(store manager, JOB_REQUIREMENT), (store mana...\n",
      "10    [(80 years dollar general helps, JOB_REQUIREME...\n",
      "11    [(vibes    bold style inspired, JOB_REQUIREMEN...\n",
      "12    [(store manager, JOB_REQUIREMENT), (helping yo...\n",
      "13    [(onsitelocation   onsite, JOB_REQUIREMENT), (...\n",
      "14    [(store manager, JOB_REQUIREMENT), (collection...\n",
      "15    [(shop manager, JOB_REQUIREMENT), (development...\n",
      "16    [(retail manager, JOB_REQUIREMENT), (leadershi...\n",
      "17    [(retail store, JOB_REQUIREMENT), (managerposi...\n",
      "18    [(80 years dollar general helps, JOB_REQUIREME...\n",
      "19    [(purposestore, JOB_REQUIREMENT), (sms, JOB_RE...\n",
      "20    [(job detailsdescriptionimmediately, JOB_REQUI...\n",
      "21    [(manager can be promoted to training manager,...\n",
      "22    [(job descriptionrestaurant, JOB_REQUIREMENT),...\n",
      "23    [(shop manager, JOB_REQUIREMENT), (development...\n",
      "24    [(80 years dollar general helps, JOB_REQUIREME...\n",
      "25    [(passion for purposeful innovation, JOB_REQUI...\n",
      "26    [(title   artificial intelligence, JOB_REQUIRE...\n",
      "27    [(title   artificial intelligence, JOB_REQUIRE...\n",
      "28    [(80 years dollar general helps, JOB_REQUIREME...\n",
      "29    [(data engineer, JOB_REQUIREMENT), (chipotle h...\n",
      "30    [(aurora flight sciences, JOB_REQUIREMENT), (d...\n",
      "31    [(machine learning, JOB_REQUIREMENT), (enginee...\n",
      "32                                                   []\n",
      "33    [(professional network, JOB_REQUIREMENT), (vis...\n",
      "34    [(amd, JOB_REQUIREMENT), (everythingwe, JOB_RE...\n",
      "35    [(machine learning, JOB_REQUIREMENT), (enginee...\n",
      "36    [(job title, JOB_REQUIREMENT), (intelligence  ...\n",
      "37    [(ritualritual is the network, JOB_REQUIREMENT...\n",
      "38    [(emmy winning, JOB_REQUIREMENT), (data    tec...\n",
      "39    [(mission to make it possible for every person...\n",
      "40    [(title data, JOB_REQUIREMENT), (engineer i re...\n",
      "41    [(rockwell automation, JOB_REQUIREMENT), (glob...\n",
      "42    [(job descriptionconducts, JOB_REQUIREMENT), (...\n",
      "43    [(s technology, JOB_REQUIREMENT), (togetherour...\n",
      "44    [(arenuro exists to better everyday life throu...\n",
      "45    [(job locationpinevillejob, JOB_REQUIREMENT), ...\n",
      "46                                                   []\n",
      "47    [(visionflyr is focused on the relentless appl...\n",
      "48    [(uskittycad 's mission, JOB_REQUIREMENT), (ha...\n",
      "49    [(3 roles within 12 months to ensure you are n...\n",
      "50    [(global business, JOB_REQUIREMENT), (product ...\n",
      "51    [(empathy was created to help families with ev...\n",
      "52    [(incubator accelerator, JOB_REQUIREMENT), (cu...\n",
      "53    [(liquid i., JOB_REQUIREMENT), (liquid i., JOB...\n",
      "54    [(marketing strategies, JOB_REQUIREMENT), (la ...\n",
      "55    [(opportunityit s, JOB_REQUIREMENT), (netflix ...\n",
      "56    [(usheineken usa, JOB_REQUIREMENT), (inc., JOB...\n",
      "57    [(2017 by two women of color proven harnesses ...\n",
      "58    [(nyc, JOB_REQUIREMENT), (3 4, JOB_REQUIREMENT...\n",
      "59    [(assouline is the first luxury brand, JOB_REQ...\n",
      "60    [(brand managerjob title, JOB_REQUIREMENT), (b...\n",
      "61    [(assistant manager, JOB_REQUIREMENT), (consum...\n",
      "62    [(s hawaiian, JOB_REQUIREMENT), (ohana   famil...\n",
      "63    [(brand managerlocation, JOB_REQUIREMENT), (ne...\n",
      "64    [(foley, JOB_REQUIREMENT), (partner to motor c...\n",
      "65                                                   []\n",
      "66    [(vista ca campus, JOB_REQUIREMENT), (share yo...\n",
      "67    [(new york times september 2022how, JOB_REQUIR...\n",
      "68    [(harry sharry, JOB_REQUIREMENT), (s inc, JOB_...\n",
      "69    [(channel marketing, JOB_REQUIREMENT), (retail...\n",
      "70    [(companye l. f. beauty inc, JOB_REQUIREMENT),...\n",
      "71    [(dynamic energetic, JOB_REQUIREMENT), (team w...\n",
      "72    [(tiktok is the leading destination for short ...\n",
      "73    [(global leader, JOB_REQUIREMENT), (unique exp...\n",
      "74    [(raw sugar living raw sugar, JOB_REQUIREMENT)...\n",
      "75    [(bridgeview estates has joined, JOB_REQUIREME...\n",
      "76    [(summaryat, JOB_REQUIREMENT), (team whoprovid...\n",
      "77    [(edgewood manor, JOB_REQUIREMENT), (excellenc...\n",
      "78    [(excellence excellent, JOB_REQUIREMENT), (exc...\n",
      "79                                                   []\n",
      "80    [(team reliability, JOB_REQUIREMENT), (trustwo...\n",
      "81                                                   []\n",
      "82    [(aide to join our growing team reliability, J...\n",
      "83    [(new lebanon rehabilitation, JOB_REQUIREMENT)...\n",
      "84                                                   []\n",
      "85    [(job title, JOB_REQUIREMENT), (aide job, JOB_...\n",
      "86    [(monday, JOB_REQUIREMENT), (availablecontinue...\n",
      "87    [(award winning, JOB_REQUIREMENT), (innovative...\n",
      "88    [(orthopedic 5, JOB_REQUIREMENT), (assistant  ...\n",
      "89    [(angel senior, JOB_REQUIREMENT), (19 vaccinat...\n",
      "90    [(etc 1, JOB_REQUIREMENT), (2 handles food and...\n",
      "91    [(dailypay requirementscna, JOB_REQUIREMENT), ...\n",
      "92    [(hudson ny, JOB_REQUIREMENT), (aide hired, JO...\n",
      "Name: job_requirements, dtype: object\n"
     ]
    }
   ],
   "source": [
    "print(df['job_requirements'])"
   ]
  },
  {
   "cell_type": "code",
   "execution_count": 32,
   "id": "620c2465",
   "metadata": {},
   "outputs": [],
   "source": [
    "pd.set_option('display.max_rows', None)"
   ]
  },
  {
   "cell_type": "code",
   "execution_count": 25,
   "id": "004e5cc0",
   "metadata": {},
   "outputs": [],
   "source": [
    "pd.reset_option('display.max_rows')"
   ]
  },
  {
   "cell_type": "code",
   "execution_count": null,
   "id": "9d65ce3c",
   "metadata": {},
   "outputs": [],
   "source": []
  }
 ],
 "metadata": {
  "kernelspec": {
   "display_name": "Python 3 (ipykernel)",
   "language": "python",
   "name": "python3"
  },
  "language_info": {
   "codemirror_mode": {
    "name": "ipython",
    "version": 3
   },
   "file_extension": ".py",
   "mimetype": "text/x-python",
   "name": "python",
   "nbconvert_exporter": "python",
   "pygments_lexer": "ipython3",
   "version": "3.11.5"
  }
 },
 "nbformat": 4,
 "nbformat_minor": 5
}
